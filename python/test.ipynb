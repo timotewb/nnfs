{
 "cells": [
  {
   "cell_type": "code",
   "execution_count": 4,
   "metadata": {},
   "outputs": [],
   "source": [
    "import numpy as np\n",
    "\n",
    "test_no = 0\n",
    "\n",
    "def testIt(xArray, yArray):\n",
    "    global test_no\n",
    "    test_no +=1\n",
    "    print(f\"Test: {test_no:02d}\")\n",
    "    print(f\"  Shape x: {xArray.shape}\")\n",
    "    print(f\"  Shape y: {yArray.shape}\")\n",
    "    r = np.dot(xArray, yArray)\n",
    "    print(f\"  Result Type: {type(r)}\")\n",
    "    print(f\"  Result Value: {r}\")"
   ]
  },
  {
   "cell_type": "code",
   "execution_count": 5,
   "metadata": {},
   "outputs": [
    {
     "name": "stdout",
     "output_type": "stream",
     "text": [
      "Test: 01\n",
      "  Shape x: (3,)\n",
      "  Shape y: (3, 1)\n",
      "  Result Type: <class 'numpy.ndarray'>\n",
      "  Result Value: [14]\n"
     ]
    }
   ],
   "source": [
    "x = [1,2,3]\n",
    "y = [[1],[2],[3]]\n",
    "xArray = np.array(x)\n",
    "yArray = np.array(y)\n",
    "\n",
    "testIt(xArray, yArray)"
   ]
  },
  {
   "cell_type": "code",
   "execution_count": 6,
   "metadata": {},
   "outputs": [
    {
     "name": "stdout",
     "output_type": "stream",
     "text": [
      "Test: 02\n",
      "  Shape x: (1, 3)\n",
      "  Shape y: (1, 3)\n"
     ]
    },
    {
     "ename": "ValueError",
     "evalue": "shapes (1,3) and (1,3) not aligned: 3 (dim 1) != 1 (dim 0)",
     "output_type": "error",
     "traceback": [
      "\u001b[0;31m---------------------------------------------------------------------------\u001b[0m",
      "\u001b[0;31mValueError\u001b[0m                                Traceback (most recent call last)",
      "Cell \u001b[0;32mIn[6], line 6\u001b[0m\n\u001b[1;32m      3\u001b[0m xArray \u001b[38;5;241m=\u001b[39m np\u001b[38;5;241m.\u001b[39marray([x])\n\u001b[1;32m      4\u001b[0m yArray \u001b[38;5;241m=\u001b[39m np\u001b[38;5;241m.\u001b[39marray([y]) \n\u001b[0;32m----> 6\u001b[0m \u001b[43mtestIt\u001b[49m\u001b[43m(\u001b[49m\u001b[43mxArray\u001b[49m\u001b[43m,\u001b[49m\u001b[43m \u001b[49m\u001b[43myArray\u001b[49m\u001b[43m)\u001b[49m\n",
      "Cell \u001b[0;32mIn[4], line 11\u001b[0m, in \u001b[0;36mtestIt\u001b[0;34m(xArray, yArray)\u001b[0m\n\u001b[1;32m      9\u001b[0m \u001b[38;5;28mprint\u001b[39m(\u001b[38;5;124mf\u001b[39m\u001b[38;5;124m\"\u001b[39m\u001b[38;5;124m  Shape x: \u001b[39m\u001b[38;5;132;01m{\u001b[39;00mxArray\u001b[38;5;241m.\u001b[39mshape\u001b[38;5;132;01m}\u001b[39;00m\u001b[38;5;124m\"\u001b[39m)\n\u001b[1;32m     10\u001b[0m \u001b[38;5;28mprint\u001b[39m(\u001b[38;5;124mf\u001b[39m\u001b[38;5;124m\"\u001b[39m\u001b[38;5;124m  Shape y: \u001b[39m\u001b[38;5;132;01m{\u001b[39;00myArray\u001b[38;5;241m.\u001b[39mshape\u001b[38;5;132;01m}\u001b[39;00m\u001b[38;5;124m\"\u001b[39m)\n\u001b[0;32m---> 11\u001b[0m r \u001b[38;5;241m=\u001b[39m \u001b[43mnp\u001b[49m\u001b[38;5;241;43m.\u001b[39;49m\u001b[43mdot\u001b[49m\u001b[43m(\u001b[49m\u001b[43mxArray\u001b[49m\u001b[43m,\u001b[49m\u001b[43m \u001b[49m\u001b[43myArray\u001b[49m\u001b[43m)\u001b[49m\n\u001b[1;32m     12\u001b[0m \u001b[38;5;28mprint\u001b[39m(\u001b[38;5;124mf\u001b[39m\u001b[38;5;124m\"\u001b[39m\u001b[38;5;124m  Result Type: \u001b[39m\u001b[38;5;132;01m{\u001b[39;00m\u001b[38;5;28mtype\u001b[39m(r)\u001b[38;5;132;01m}\u001b[39;00m\u001b[38;5;124m\"\u001b[39m)\n\u001b[1;32m     13\u001b[0m \u001b[38;5;28mprint\u001b[39m(\u001b[38;5;124mf\u001b[39m\u001b[38;5;124m\"\u001b[39m\u001b[38;5;124m  Result Value: \u001b[39m\u001b[38;5;132;01m{\u001b[39;00mr\u001b[38;5;132;01m}\u001b[39;00m\u001b[38;5;124m\"\u001b[39m)\n",
      "\u001b[0;31mValueError\u001b[0m: shapes (1,3) and (1,3) not aligned: 3 (dim 1) != 1 (dim 0)"
     ]
    }
   ],
   "source": [
    "x = [1, 2, 3]\n",
    "y = [1, 2, 3]\n",
    "xArray = np.array([x])\n",
    "yArray = np.array([y]) \n",
    "\n",
    "testIt(xArray, yArray)"
   ]
  },
  {
   "cell_type": "code",
   "execution_count": 7,
   "metadata": {},
   "outputs": [
    {
     "name": "stdout",
     "output_type": "stream",
     "text": [
      "Test: 03\n",
      "  Shape x: (3,)\n",
      "  Shape y: (3, 3)\n",
      "  Result Type: <class 'numpy.ndarray'>\n",
      "  Result Value: [ 6 12 18]\n"
     ]
    }
   ],
   "source": [
    "x = [1,2,3]\n",
    "y = [[1,2,3],[1,2,3],[1,2,3]]\n",
    "xArray = np.array(x)\n",
    "yArray = np.array(y)\n",
    "\n",
    "testIt(xArray, yArray)"
   ]
  },
  {
   "cell_type": "code",
   "execution_count": 8,
   "metadata": {},
   "outputs": [
    {
     "name": "stdout",
     "output_type": "stream",
     "text": [
      "Test: 04\n",
      "  Shape x: (1, 3)\n",
      "  Shape y: (3, 3)\n",
      "  Result Type: <class 'numpy.ndarray'>\n",
      "  Result Value: [[ 6 12 18]]\n"
     ]
    }
   ],
   "source": [
    "x = [[1,2,3]]\n",
    "y = [[1,2,3],[1,2,3],[1,2,3]]\n",
    "xArray = np.array(x)\n",
    "yArray = np.array(y)\n",
    "\n",
    "testIt(xArray, yArray)"
   ]
  },
  {
   "cell_type": "code",
   "execution_count": 10,
   "metadata": {},
   "outputs": [
    {
     "name": "stdout",
     "output_type": "stream",
     "text": [
      "Test: 06\n",
      "  Shape x: (4, 3)\n",
      "  Shape y: (3, 3)\n",
      "  Result Type: <class 'numpy.ndarray'>\n",
      "  Result Value: [[ 6 12 18]\n",
      " [ 6 12 18]\n",
      " [ 6 12 18]\n",
      " [ 6 12 18]]\n"
     ]
    }
   ],
   "source": [
    "x = [[1,2,3],[1,2,3],[1,2,3],[1,2,3]]\n",
    "y = [[1,2,3],[1,2,3],[1,2,3]]\n",
    "xArray = np.array(x)\n",
    "yArray = np.array(y)\n",
    "\n",
    "testIt(xArray, yArray)"
   ]
  }
 ],
 "metadata": {
  "kernelspec": {
   "display_name": ".venv",
   "language": "python",
   "name": "python3"
  },
  "language_info": {
   "codemirror_mode": {
    "name": "ipython",
    "version": 3
   },
   "file_extension": ".py",
   "mimetype": "text/x-python",
   "name": "python",
   "nbconvert_exporter": "python",
   "pygments_lexer": "ipython3",
   "version": "3.10.13"
  }
 },
 "nbformat": 4,
 "nbformat_minor": 2
}
