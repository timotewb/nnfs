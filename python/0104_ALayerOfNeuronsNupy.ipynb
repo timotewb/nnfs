{
 "cells": [
  {
   "cell_type": "markdown",
   "metadata": {},
   "source": []
  },
  {
   "cell_type": "code",
   "execution_count": 2,
   "metadata": {},
   "outputs": [],
   "source": [
    "import numpy as np"
   ]
  },
  {
   "cell_type": "code",
   "execution_count": 10,
   "metadata": {},
   "outputs": [],
   "source": [
    "inputs:list[float] = [1,2,3,2.5]\n",
    "\n",
    "weights1:list[float] = [0.2, 0.8, -0.5, 1]\n",
    "weights2:list[float] = [0.5, -0.91, 0.26, -0.5]\n",
    "weights3:list[float] = [-0.26, -0.27, 0.17, 0.87]\n",
    "\n",
    "weights:list[list[float]] = [weights1, weights2, weights3]\n",
    "\n",
    "bias1:float = 2\n",
    "bias2:float = 3\n",
    "bias3:float = .5\n",
    "\n",
    "bias:list[float] = [bias1, bias2, bias3]"
   ]
  },
  {
   "cell_type": "code",
   "execution_count": 11,
   "metadata": {},
   "outputs": [
    {
     "name": "stdout",
     "output_type": "stream",
     "text": [
      "[4.8   1.21  2.385]\n"
     ]
    }
   ],
   "source": [
    "layer_outputs = np.dot(weights, inputs) + bias\n",
    "print(layer_outputs)"
   ]
  },
  {
   "cell_type": "code",
   "execution_count": null,
   "metadata": {},
   "outputs": [],
   "source": []
  }
 ],
 "metadata": {
  "kernelspec": {
   "display_name": ".venv",
   "language": "python",
   "name": "python3"
  },
  "language_info": {
   "codemirror_mode": {
    "name": "ipython",
    "version": 3
   },
   "file_extension": ".py",
   "mimetype": "text/x-python",
   "name": "python",
   "nbconvert_exporter": "python",
   "pygments_lexer": "ipython3",
   "version": "3.10.13"
  }
 },
 "nbformat": 4,
 "nbformat_minor": 2
}
