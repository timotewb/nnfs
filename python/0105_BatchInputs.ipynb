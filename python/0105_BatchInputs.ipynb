{
 "cells": [
  {
   "cell_type": "code",
   "execution_count": 2,
   "metadata": {},
   "outputs": [],
   "source": [
    "import numpy as np"
   ]
  },
  {
   "cell_type": "code",
   "execution_count": 3,
   "metadata": {},
   "outputs": [],
   "source": [
    "inputs1:list[float] = [1,2,3,2.5]\n",
    "inputs2:list[float] = [2,5,-1,2]\n",
    "inputs3:list[float] = [-1.5,2.7,3.3,-.8]\n",
    "\n",
    "inputs:list[list[float]] = [inputs1, inputs2, inputs3]\n",
    "\n",
    "weights1:list[float] = [0.2, 0.8, -0.5, 1]\n",
    "weights2:list[float] = [0.5, -0.91, 0.26, -0.5]\n",
    "weights3:list[float] = [-0.26, -0.27, 0.17, 0.87]\n",
    "\n",
    "weights:list[list[float]] = [weights1, weights2, weights3]\n",
    "\n",
    "bias1:float = 2\n",
    "bias2:float = 3\n",
    "bias3:float = .5\n",
    "\n",
    "bias:list[float] = [bias1, bias2, bias3]"
   ]
  },
  {
   "cell_type": "code",
   "execution_count": 4,
   "metadata": {},
   "outputs": [],
   "source": [
    "outputs = np.dot(inputs, np.array(weights).T) + bias"
   ]
  },
  {
   "cell_type": "code",
   "execution_count": 5,
   "metadata": {},
   "outputs": [
    {
     "data": {
      "text/plain": [
       "array([[ 4.8  ,  1.21 ,  2.385],\n",
       "       [ 8.9  , -1.81 ,  0.2  ],\n",
       "       [ 1.41 ,  1.051,  0.026]])"
      ]
     },
     "execution_count": 5,
     "metadata": {},
     "output_type": "execute_result"
    }
   ],
   "source": [
    "outputs"
   ]
  },
  {
   "cell_type": "code",
   "execution_count": null,
   "metadata": {},
   "outputs": [],
   "source": []
  }
 ],
 "metadata": {
  "kernelspec": {
   "display_name": ".venv",
   "language": "python",
   "name": "python3"
  },
  "language_info": {
   "codemirror_mode": {
    "name": "ipython",
    "version": 3
   },
   "file_extension": ".py",
   "mimetype": "text/x-python",
   "name": "python",
   "nbconvert_exporter": "python",
   "pygments_lexer": "ipython3",
   "version": "3.10.13"
  }
 },
 "nbformat": 4,
 "nbformat_minor": 2
}
